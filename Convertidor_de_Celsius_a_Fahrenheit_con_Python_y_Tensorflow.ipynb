{
  "nbformat": 4,
  "nbformat_minor": 0,
  "metadata": {
    "colab": {
      "provenance": [],
      "include_colab_link": true
    },
    "kernelspec": {
      "name": "python3",
      "display_name": "Python 3"
    },
    "language_info": {
      "name": "python"
    }
  },
  "cells": [
    {
      "cell_type": "markdown",
      "metadata": {
        "id": "view-in-github",
        "colab_type": "text"
      },
      "source": [
        "<a href=\"https://colab.research.google.com/github/GuCuChiara/Convertidor-de-Celsius-a-Fahrenheit-con-Python-y-Tensorflow/blob/main/Convertidor_de_Celsius_a_Fahrenheit_con_Python_y_Tensorflow.ipynb\" target=\"_parent\"><img src=\"https://colab.research.google.com/assets/colab-badge.svg\" alt=\"Open In Colab\"/></a>"
      ]
    },
    {
      "cell_type": "markdown",
      "source": [
        "# Convertidor de Celsius a Fahrenheit con Python y Tensorflow"
      ],
      "metadata": {
        "id": "xQ4K96yReCIs"
      }
    },
    {
      "cell_type": "code",
      "metadata": {
        "id": "Hy_pAhzDZ4gy",
        "colab": {
          "base_uri": "https://localhost:8080/"
        },
        "outputId": "e390ab88-2dde-4d71-86c0-f4ea813a1ed4"
      },
      "source": [
        "# importamos tensorflow y numpy\n",
        "import tensorflow as tf\n",
        "import numpy as np\n",
        "tf_version = f'Versión de tensorflow: {tf.__version__}'\n",
        "np_version = f'Versión de numpy: {np.__version__}' \n",
        "print(tf_version)\n",
        "print(np_version)"
      ],
      "execution_count": 1,
      "outputs": [
        {
          "output_type": "stream",
          "name": "stdout",
          "text": [
            "Versión de tensorflow: 2.9.2\n",
            "Versión de numpy: 1.21.6\n"
          ]
        }
      ]
    },
    {
      "cell_type": "markdown",
      "source": [
        "# Fórmula:\n",
        "\n",
        "\n",
        "```\n",
        "Fahrenheit = Celsius * 1.8 + 32\n",
        "```\n",
        "\n",
        "\n"
      ],
      "metadata": {
        "id": "mNKLDP4GeLFn"
      }
    },
    {
      "cell_type": "markdown",
      "source": [
        "# Código a implementar si usáramos una función con programación regular:\n",
        "```\n",
        "def function(C):\n",
        "    F = C * 1.8 + 32\n",
        "    return F\n",
        "```\n",
        "\n",
        "\n"
      ],
      "metadata": {
        "id": "I2ehpStCix13"
      }
    },
    {
      "cell_type": "code",
      "source": [
        "def conversor():\n",
        "  valor = input(\"ingrese un valor numérico: \")\n",
        "  celsius = float(valor) \n",
        "  F = celsius * 1.8 + 32\n",
        "  resultado= f'El resultado real es {F}'\n",
        "  print(resultado)"
      ],
      "metadata": {
        "id": "9sp4u9_CvhT1"
      },
      "execution_count": 35,
      "outputs": []
    },
    {
      "cell_type": "markdown",
      "source": [
        "# Deducción del valor en fahrenheit, usando aprendizaje automático:"
      ],
      "metadata": {
        "id": "qqoS1s4JfJyv"
      }
    },
    {
      "cell_type": "code",
      "metadata": {
        "id": "MIrfX72vaL1z"
      },
      "source": [
        "# Definimos 2 arreglos numéricos de ejemplos de entradas y salidas, en celsius y fahrenheit:\n",
        "# la red los tomará como entrada para aprender\n",
        "celsius = np.array([-40, -26, -10, 0, 8, 15, 22, 33, 38, 53], dtype=float)\n",
        "fahrenheit = np.array([-40, -15, 14, 32, 46, 59, 72, 91, 100, 127], dtype=float)"
      ],
      "execution_count": 2,
      "outputs": []
    },
    {
      "cell_type": "markdown",
      "source": [
        "# Definimos el modelo y las capas de nuestra red:\n",
        "**importamos keras**"
      ],
      "metadata": {
        "id": "0qjlzFvllRxv"
      }
    },
    {
      "cell_type": "code",
      "metadata": {
        "id": "RIG6Y5jEafFL",
        "colab": {
          "base_uri": "https://localhost:8080/"
        },
        "outputId": "77681dff-ccc7-47b4-ab57-885176449728"
      },
      "source": [
        "import keras\n",
        "keras_version = f'Versión de keras: {keras.__version__}' \n",
        "print(keras_version)\n",
        "#capa = tf.keras.layers.Dense(units=1, input_shape=[1]) # una capa oculta + una capa entrada\n",
        "#modelo = tf.keras.Sequential([capa]) # modelo Sequencial\n",
        "\n",
        "oculta1 = tf.keras.layers.Dense(units=3, input_shape=[1]) # 3 capas ocultas + una capa entrada\n",
        "oculta2 = tf.keras.layers.Dense(units=3)                  # 3 capas ocultas\n",
        "oculta3 = tf.keras.layers.Dense(units=3)                  # 3 capas ocultas    \n",
        "salida = tf.keras.layers.Dense(units=1)                   # 1 capa salida\n",
        "modelo = tf.keras.Sequential([oculta1, oculta2, oculta3, salida])\n",
        "modelo.summary()"
      ],
      "execution_count": 46,
      "outputs": [
        {
          "output_type": "stream",
          "name": "stdout",
          "text": [
            "Versión de keras: 2.9.0\n",
            "Model: \"sequential_3\"\n",
            "_________________________________________________________________\n",
            " Layer (type)                Output Shape              Param #   \n",
            "=================================================================\n",
            " dense_11 (Dense)            (None, 3)                 6         \n",
            "                                                                 \n",
            " dense_12 (Dense)            (None, 3)                 12        \n",
            "                                                                 \n",
            " dense_13 (Dense)            (None, 3)                 12        \n",
            "                                                                 \n",
            " dense_14 (Dense)            (None, 1)                 4         \n",
            "                                                                 \n",
            "=================================================================\n",
            "Total params: 34\n",
            "Trainable params: 34\n",
            "Non-trainable params: 0\n",
            "_________________________________________________________________\n"
          ]
        }
      ]
    },
    {
      "cell_type": "code",
      "metadata": {
        "id": "1_WHzWidbN_8"
      },
      "source": [
        "# compilamos el modelo, usamos el optimizador Adam, y definimos la función de pérdida\n",
        "modelo.compile(\n",
        "    optimizer=tf.keras.optimizers.Adam(0.1),\n",
        "    loss='mean_squared_error'\n",
        ")"
      ],
      "execution_count": 47,
      "outputs": []
    },
    {
      "cell_type": "code",
      "metadata": {
        "colab": {
          "base_uri": "https://localhost:8080/"
        },
        "id": "4D-NuUTnbabR",
        "outputId": "9ef5d590-5637-4994-b54c-3eab23c990f3"
      },
      "source": [
        "print(\"Comenzando entrenamiento...\")\n",
        "# le indicamos al modelo, los datos de entrada (celsius) y los resultados esperados (fahrenheit)\n",
        "# el número de épocas\n",
        "historial = modelo.fit(celsius, fahrenheit, epochs=100, verbose=False)\n",
        "print(\"Modelo entrenado!\")"
      ],
      "execution_count": 51,
      "outputs": [
        {
          "output_type": "stream",
          "name": "stdout",
          "text": [
            "Comenzando entrenamiento...\n",
            "Modelo entrenado!\n"
          ]
        }
      ]
    },
    {
      "cell_type": "markdown",
      "source": [
        "# Visualizamos los resultados del entrenamiento, vemos la magnitud de pérdida en cada época:"
      ],
      "metadata": {
        "id": "1cJD8m-qtPpf"
      }
    },
    {
      "cell_type": "code",
      "metadata": {
        "colab": {
          "base_uri": "https://localhost:8080/",
          "height": 296
        },
        "id": "px43cF3Nb3mG",
        "outputId": "93bc596f-25ec-4c2a-d6cf-5af85a6e8629"
      },
      "source": [
        "import matplotlib.pyplot as plt\n",
        "plt.xlabel(\"# Epoca\")\n",
        "plt.ylabel(\"Magnitud de pérdida\")\n",
        "plt.plot(historial.history[\"loss\"])"
      ],
      "execution_count": 52,
      "outputs": [
        {
          "output_type": "execute_result",
          "data": {
            "text/plain": [
              "[<matplotlib.lines.Line2D at 0x7fe98eaee650>]"
            ]
          },
          "metadata": {},
          "execution_count": 52
        },
        {
          "output_type": "display_data",
          "data": {
            "text/plain": [
              "<Figure size 432x288 with 1 Axes>"
            ],
            "image/png": "[encoded data removed]"
          },
          "metadata": {
            "needs_background": "light"
          }
        }
      ]
    },
    {
      "cell_type": "code",
      "metadata": {
        "colab": {
          "base_uri": "https://localhost:8080/"
        },
        "id": "esVvhzjMcV9f",
        "outputId": "90c4698f-b0a8-42a2-9a05-14e29c8d5a2a"
      },
      "source": [
        "print(\"Hagamos una predicción!\")\n",
        "valor = input(\"ingrese un valor numérico: \")\n",
        "resultado = modelo.predict([float(valor)])\n",
        "print(\"El resultado predicho es \" + str(resultado) + \" fahrenheit!\")\n",
        "print('------------------------------------------')\n",
        "print(\"ingrese muevamente el valor numérico para comparar el cálculo real:\")\n",
        "conversor() #mostramos el cálculo real realizado en la función conversor, con la fórmula de conversión celsius a fahrenheit"
      ],
      "execution_count": 53,
      "outputs": [
        {
          "output_type": "stream",
          "name": "stdout",
          "text": [
            "Hagamos una predicción!\n",
            "ingrese un valor numérico: 60\n",
            "1/1 [==============================] - 0s 25ms/step\n",
            "El resultado predicho es [[139.7214]] fahrenheit!\n",
            "------------------------------------------\n",
            "ingrese muevamente el valor numérico para comparar el cálculo real:\n",
            "ingrese un valor numérico: 60\n",
            "El resultado real es 140.0\n"
          ]
        }
      ]
    },
    {
      "cell_type": "markdown",
      "source": [
        "# Visualizamos los pesos y sesgos asignados:\n",
        "**recordemos que el resultado va a ser:**\n",
        "\n",
        "valor ingresado * peso + sesgo = resultado\n",
        "\n",
        "valor * W + b (bias) = resultado"
      ],
      "metadata": {
        "id": "o2tylC380FO3"
      }
    },
    {
      "cell_type": "code",
      "metadata": {
        "colab": {
          "base_uri": "https://localhost:8080/"
        },
        "id": "FVDejrBgcokc",
        "outputId": "616c98f3-daad-4225-99f8-f881a756c01c"
      },
      "source": [
        "print(\"Variables internas del modelo\")\n",
        "#print(capa.get_weights())\n",
        "print(oculta1.get_weights())\n",
        "print(oculta2.get_weights())\n",
        "print(oculta3.get_weights())\n",
        "print(salida.get_weights())"
      ],
      "execution_count": 54,
      "outputs": [
        {
          "output_type": "stream",
          "name": "stdout",
          "text": [
            "Variables internas del modelo\n",
            "[array([[-0.23139668,  0.5504722 ,  0.23935051]], dtype=float32), array([-2.6044748,  2.7196417, -1.9648819], dtype=float32)]\n",
            "[array([[ 0.6612312 ,  1.0015008 ,  0.22538069],\n",
            "       [-0.24796377, -2.0185657 ,  0.07826124],\n",
            "       [-0.20577474,  0.9347071 , -0.2596231 ]], dtype=float32), array([-0.76463217, -4.1096163 , -2.8143203 ], dtype=float32)]\n",
            "[array([[ 0.49557003, -0.3177454 ,  0.00900505],\n",
            "       [-0.6937976 ,  0.94679713,  1.7885418 ],\n",
            "       [-0.9136657 ,  0.90487576,  0.3255664 ]], dtype=float32), array([ 3.6524696, -1.8028089, -3.4391577], dtype=float32)]\n",
            "[array([[ 0.543354  ],\n",
            "       [-0.03845402],\n",
            "       [-0.68641853]], dtype=float32), array([3.167548], dtype=float32)]\n"
          ]
        }
      ]
    }
  ]
}